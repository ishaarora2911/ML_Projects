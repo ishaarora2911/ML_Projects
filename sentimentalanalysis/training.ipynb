{
 "cells": [
  {
   "cell_type": "code",
   "execution_count": null,
   "id": "74b891c0-e7ff-4de8-a025-72ef6251776e",
   "metadata": {},
   "outputs": [],
   "source": [
    "#Description:This is a sentiment analysis program that parses the tweets fetched from the Twitter using python"
   ]
  },
  {
   "cell_type": "markdown",
   "id": "453d2e18-e498-423c-9fb1-5ca0e417739b",
   "metadata": {},
   "source": [
    "#Import the libraries\n"
   ]
  },
  {
   "cell_type": "code",
   "execution_count": null,
   "id": "176d8a5b-2d94-413c-9efb-26db112ab8d6",
   "metadata": {},
   "outputs": [],
   "source": [
    "import tweepy\n",
    "import pandas as pd\n",
    "from wordcloud import WorldCloud\n",
    "import numpy as np\n",
    "from textblob import TextBlob\n",
    "import re\n",
    "import matplotlib.pyplot as plt\n",
    "plt.style.use('fivethirtyeight')\n"
   ]
  },
  {
   "cell_type": "markdown",
   "id": "cff8a89b-5fcc-432b-ad96-283b06afac33",
   "metadata": {},
   "source": [
    "Load the data"
   ]
  },
  {
   "cell_type": "code",
   "execution_count": null,
   "id": "1b756081-d63f-4a0a-92c4-60893c97cf04",
   "metadata": {},
   "outputs": [],
   "source": [
    "from google.colab import files"
   ]
  }
 ],
 "metadata": {
  "kernelspec": {
   "display_name": "Python 3 (ipykernel)",
   "language": "python",
   "name": "python3"
  },
  "language_info": {
   "codemirror_mode": {
    "name": "ipython",
    "version": 3
   },
   "file_extension": ".py",
   "mimetype": "text/x-python",
   "name": "python",
   "nbconvert_exporter": "python",
   "pygments_lexer": "ipython3",
   "version": "3.9.13"
  }
 },
 "nbformat": 4,
 "nbformat_minor": 5
}
